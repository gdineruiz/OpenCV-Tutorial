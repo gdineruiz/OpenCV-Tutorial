{
 "cells": [
  {
   "cell_type": "code",
   "execution_count": 1,
   "metadata": {},
   "outputs": [],
   "source": [
    "import cv2 as cv\n",
    "import numpy as np"
   ]
  },
  {
   "cell_type": "code",
   "execution_count": 2,
   "metadata": {},
   "outputs": [],
   "source": [
    "def delay():\n",
    "\tdelay = 1000\n",
    "\tcv.waitKey(delay)\n",
    "\tcv.destroyAllWindows()"
   ]
  },
  {
   "attachments": {},
   "cell_type": "markdown",
   "metadata": {},
   "source": [
    "#### Translation"
   ]
  },
  {
   "cell_type": "code",
   "execution_count": 3,
   "metadata": {},
   "outputs": [],
   "source": [
    "def translate(img, x, y):\n",
    "\ttransMat = np.float32([[1,0,x],[0,1,y]])\n",
    "\tdimensions = (img.shape[1], img.shape[0])\n",
    "\treturn cv.warpAffine(img, transMat, dimensions)"
   ]
  },
  {
   "cell_type": "code",
   "execution_count": 4,
   "metadata": {},
   "outputs": [],
   "source": [
    "img = cv.imread('../Photos/park.jpg')\n",
    "cv.imshow('Boston', img)\n",
    "delay()"
   ]
  },
  {
   "attachments": {},
   "cell_type": "markdown",
   "metadata": {},
   "source": [
    "- `-x --> left`\n",
    "- `-y --> up`\n",
    "- `x --> right`\n",
    "- `y --> down`"
   ]
  },
  {
   "cell_type": "code",
   "execution_count": 5,
   "metadata": {},
   "outputs": [],
   "source": [
    "translated = translate(img, 100, 100)\n",
    "cv.imshow('Translated', translated)\n",
    "delay()"
   ]
  },
  {
   "attachments": {},
   "cell_type": "markdown",
   "metadata": {},
   "source": [
    "#### Rotation"
   ]
  },
  {
   "cell_type": "code",
   "execution_count": 6,
   "metadata": {},
   "outputs": [],
   "source": [
    "def rotate(img, angle, rotPoint=None):\n",
    "\theight, width = img.shape[:2]\n",
    "\n",
    "\tif rotPoint is None:\n",
    "\t\trotPoint = (width//2,height//2)\n",
    "\t\n",
    "\trotMat = cv.getRotationMatrix2D(rotPoint, angle, 1.0)\n",
    "\tdimensions = (width,height)\n",
    "\n",
    "\treturn cv.warpAffine(img, rotMat, dimensions)"
   ]
  },
  {
   "cell_type": "code",
   "execution_count": 7,
   "metadata": {},
   "outputs": [],
   "source": [
    "rotated = rotate(img, 45)\n",
    "cv.imshow('Rotated', rotated)\n",
    "delay()"
   ]
  },
  {
   "attachments": {},
   "cell_type": "markdown",
   "metadata": {},
   "source": [
    "#### Resizing"
   ]
  },
  {
   "cell_type": "code",
   "execution_count": 8,
   "metadata": {},
   "outputs": [],
   "source": [
    "resized = cv.resize(img, (500,500), interpolation=cv.INTER_CUBIC)\n",
    "cv.imshow('Resized', resized)\n",
    "delay()"
   ]
  },
  {
   "attachments": {},
   "cell_type": "markdown",
   "metadata": {},
   "source": [
    "#### Flipping"
   ]
  },
  {
   "cell_type": "code",
   "execution_count": 15,
   "metadata": {},
   "outputs": [],
   "source": [
    "flip = cv.flip(img, 0)  # flip image vertically\n",
    "cv.imshow('Vertically flipped', flip)\n",
    "delay()\n",
    "\n",
    "flip = cv.flip(img, 1)  # flip image horizontally\n",
    "cv.imshow('Horizontally flipped', flip)\n",
    "delay()\n",
    "\n",
    "flip = cv.flip(img, -1)  # flip image horizontally and vertically\n",
    "cv.imshow('Horizontally and vertically flipped', flip)\n",
    "delay()"
   ]
  },
  {
   "attachments": {},
   "cell_type": "markdown",
   "metadata": {},
   "source": [
    "#### Cropping"
   ]
  },
  {
   "cell_type": "code",
   "execution_count": 16,
   "metadata": {},
   "outputs": [],
   "source": [
    "cropped = img[200:400, 300:400]\n",
    "cv.imshow('Cropped', cropped)\n",
    "delay()"
   ]
  }
 ],
 "metadata": {
  "kernelspec": {
   "display_name": "OpenCV",
   "language": "python",
   "name": "python3"
  },
  "language_info": {
   "codemirror_mode": {
    "name": "ipython",
    "version": 3
   },
   "file_extension": ".py",
   "mimetype": "text/x-python",
   "name": "python",
   "nbconvert_exporter": "python",
   "pygments_lexer": "ipython3",
   "version": "3.10.5"
  },
  "orig_nbformat": 4,
  "vscode": {
   "interpreter": {
    "hash": "f6c0965e6b75db49b3d5dabb58f334c6e9bfd31022c25e3b676aee8f55f8f353"
   }
  }
 },
 "nbformat": 4,
 "nbformat_minor": 2
}
