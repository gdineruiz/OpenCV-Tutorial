{
 "cells": [
  {
   "cell_type": "code",
   "execution_count": 1,
   "metadata": {},
   "outputs": [],
   "source": [
    "import cv2 as cv"
   ]
  },
  {
   "attachments": {},
   "cell_type": "markdown",
   "metadata": {},
   "source": [
    "#### Rescale image and video"
   ]
  },
  {
   "cell_type": "code",
   "execution_count": 2,
   "metadata": {},
   "outputs": [],
   "source": [
    "# works for images, videos, and live video\n",
    "def rescaleFrame(frame, scale):\n",
    "\twidth = int(frame.shape[1] * scale)\n",
    "\theight = int(frame.shape[0] * scale)\n",
    "\t\n",
    "\tdimensions = (width, height)\n",
    "\n",
    "\treturn cv.resize(frame, dimensions, interpolation=cv.INTER_AREA)"
   ]
  },
  {
   "cell_type": "code",
   "execution_count": 3,
   "metadata": {},
   "outputs": [
    {
     "data": {
      "text/plain": [
       "27"
      ]
     },
     "execution_count": 3,
     "metadata": {},
     "output_type": "execute_result"
    }
   ],
   "source": [
    "img = cv.imread('../Photos/cat_large.jpg')\n",
    "img_resized = rescaleFrame(img, scale=0.20)\n",
    "\n",
    "cv.imshow('Cat', img)\n",
    "cv.imshow('Cat Resized', img_resized)\n",
    "cv.waitKey(0)"
   ]
  },
  {
   "cell_type": "code",
   "execution_count": 4,
   "metadata": {},
   "outputs": [],
   "source": [
    "capture = cv.VideoCapture('../Videos/dog.mp4')\n",
    "\n",
    "while True:\n",
    "\tisTrue, frame = capture.read()\n",
    "\tframe_resized = rescaleFrame(frame, scale=0.75)\n",
    "\tcv.imshow('Video', frame)\n",
    "\tcv.imshow('Video Resized', frame_resized)\n",
    "\tif cv.waitKey(20) & 0xFF == ord('d'):\n",
    "\t\tbreak\n",
    "\n",
    "capture.release()\n",
    "cv.destroyAllWindows()"
   ]
  },
  {
   "attachments": {},
   "cell_type": "markdown",
   "metadata": {},
   "source": [
    "#### Change Live Video Resolution"
   ]
  },
  {
   "cell_type": "code",
   "execution_count": null,
   "metadata": {},
   "outputs": [],
   "source": [
    "# works for live video only\n",
    "def changeRes(width, height):\n",
    "\tcapture.set(3, width)\n",
    "\tcapture.set(4, height)"
   ]
  },
  {
   "cell_type": "code",
   "execution_count": null,
   "metadata": {},
   "outputs": [],
   "source": [
    "capture = cv.VideoCapture(0)\n",
    "\n",
    "while True:\n",
    "\tisTrue, frame = capture.read()\n",
    "\tchangeRes(240, 240)\n",
    "\tcv.imshow('Video', frame)\n",
    "\tif cv.waitKey(20) & 0xFF == ord('d'):\n",
    "\t\tbreak\n",
    "\n",
    "capture.release()\n",
    "cv.destroyAllWindows()"
   ]
  }
 ],
 "metadata": {
  "kernelspec": {
   "display_name": "Python 3",
   "language": "python",
   "name": "python3"
  },
  "language_info": {
   "codemirror_mode": {
    "name": "ipython",
    "version": 3
   },
   "file_extension": ".py",
   "mimetype": "text/x-python",
   "name": "python",
   "nbconvert_exporter": "python",
   "pygments_lexer": "ipython3",
   "version": "3.10.5"
  },
  "orig_nbformat": 4,
  "vscode": {
   "interpreter": {
    "hash": "b5687a22b6d943712df6b6a793a2772cb6ba6d99211d52c7673ba0c84bd130a6"
   }
  }
 },
 "nbformat": 4,
 "nbformat_minor": 2
}
