{
 "cells": [
  {
   "cell_type": "code",
   "execution_count": 1,
   "metadata": {},
   "outputs": [],
   "source": [
    "import cv2 as cv"
   ]
  },
  {
   "cell_type": "code",
   "execution_count": 2,
   "metadata": {},
   "outputs": [],
   "source": [
    "def delay():\n",
    "\tdelay = 0\n",
    "\tcv.waitKey(delay)\n",
    "\tcv.destroyAllWindows()"
   ]
  },
  {
   "cell_type": "code",
   "execution_count": 3,
   "metadata": {},
   "outputs": [],
   "source": [
    "img = cv.imread('../../Photos/group 1.jpg')\n",
    "# cv.imshow('Person', img)\n",
    "# delay()"
   ]
  },
  {
   "cell_type": "code",
   "execution_count": 4,
   "metadata": {},
   "outputs": [],
   "source": [
    "gray = cv.cvtColor(img, cv.COLOR_BGR2GRAY)\n",
    "# cv.imshow('Gray Person', gray)\n",
    "# delay()"
   ]
  },
  {
   "cell_type": "code",
   "execution_count": 5,
   "metadata": {},
   "outputs": [
    {
     "name": "stdout",
     "output_type": "stream",
     "text": [
      "Number of faces found = 19\n"
     ]
    }
   ],
   "source": [
    "haar_cascade = cv.CascadeClassifier('haar_face.xml')\n",
    "faces_rect = haar_cascade.detectMultiScale(gray, scaleFactor=1.1, minNeighbors=1)\n",
    "\n",
    "print(f'Number of faces found = {len(faces_rect)}')"
   ]
  },
  {
   "cell_type": "code",
   "execution_count": 6,
   "metadata": {},
   "outputs": [],
   "source": [
    "for(x,y,w,h) in faces_rect:\n",
    "\tcv.rectangle(img, (x,y), (x+w, y+h), (0,255,0), thickness=2)\n",
    "\n",
    "cv.imshow('Detected Faces', img)\n",
    "delay()"
   ]
  }
 ],
 "metadata": {
  "kernelspec": {
   "display_name": "OpenCV",
   "language": "python",
   "name": "python3"
  },
  "language_info": {
   "codemirror_mode": {
    "name": "ipython",
    "version": 3
   },
   "file_extension": ".py",
   "mimetype": "text/x-python",
   "name": "python",
   "nbconvert_exporter": "python",
   "pygments_lexer": "ipython3",
   "version": "3.10.5"
  },
  "orig_nbformat": 4,
  "vscode": {
   "interpreter": {
    "hash": "f6c0965e6b75db49b3d5dabb58f334c6e9bfd31022c25e3b676aee8f55f8f353"
   }
  }
 },
 "nbformat": 4,
 "nbformat_minor": 2
}
