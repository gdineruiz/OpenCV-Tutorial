{
 "cells": [
  {
   "cell_type": "code",
   "execution_count": 1,
   "metadata": {},
   "outputs": [],
   "source": [
    "import os\n",
    "import cv2 as cv\n",
    "import numpy as np"
   ]
  },
  {
   "cell_type": "code",
   "execution_count": 2,
   "metadata": {},
   "outputs": [],
   "source": [
    "people = ['Ben Afflek', 'Elton John', 'Jerry Seinfield', 'Madonna', 'Mindy Kaling']\n",
    "DIR = \"../../Faces/train/\"\n",
    "\n",
    "haar_cascade = cv.CascadeClassifier('../01_Face Detection (Haar Cascades)/haar_face.xml')\n",
    "\n",
    "features = []\n",
    "labels = []\n",
    "\n",
    "def create_train():\n",
    "\tfor person in people:\n",
    "\t\tpath = os.path.join(DIR, person)\n",
    "\t\tlabel = people.index(person)\n",
    "\n",
    "\t\tfor img in os.listdir(path):\n",
    "\t\t\timg_path = os.path.join(path,img)\n",
    "\n",
    "\t\t\timg_array = cv.imread(img_path)\n",
    "\t\t\tgray = cv.cvtColor(img_array, cv.COLOR_BGR2GRAY)\n",
    "\n",
    "\t\t\tfaces_rect = haar_cascade.detectMultiScale(gray, scaleFactor=1.1, minNeighbors=4)\n",
    "\n",
    "\t\t\tfor (x,y,w,h) in faces_rect:\n",
    "\t\t\t\tfaces_roi = gray[y:y+h, x:x+w]\n",
    "\t\t\t\tfeatures.append(faces_roi)\n",
    "\t\t\t\tlabels.append(label)"
   ]
  },
  {
   "cell_type": "code",
   "execution_count": 3,
   "metadata": {},
   "outputs": [
    {
     "name": "stdout",
     "output_type": "stream",
     "text": [
      "Training done ---------\n"
     ]
    }
   ],
   "source": [
    "create_train()\n",
    "\n",
    "print('Training done ---------')\n",
    "\n",
    "# print(f'Length of the features = {len(features)}')\n",
    "# print(f'Length of the labels = {len(labels)}')"
   ]
  },
  {
   "cell_type": "code",
   "execution_count": 4,
   "metadata": {},
   "outputs": [],
   "source": [
    "features = np.array(features, dtype='object')\n",
    "labels = np.array(labels)"
   ]
  },
  {
   "cell_type": "code",
   "execution_count": 5,
   "metadata": {},
   "outputs": [],
   "source": [
    "face_recognizer = cv.face.LBPHFaceRecognizer_create()\n",
    "face_recognizer.train(features, labels)\n",
    "\n",
    "face_recognizer.save('face_trained.yml')"
   ]
  },
  {
   "cell_type": "code",
   "execution_count": 6,
   "metadata": {},
   "outputs": [],
   "source": [
    "np.save('features.npy', features)\n",
    "np.save('labels.npy', labels)"
   ]
  }
 ],
 "metadata": {
  "kernelspec": {
   "display_name": "OpenCV",
   "language": "python",
   "name": "python3"
  },
  "language_info": {
   "codemirror_mode": {
    "name": "ipython",
    "version": 3
   },
   "file_extension": ".py",
   "mimetype": "text/x-python",
   "name": "python",
   "nbconvert_exporter": "python",
   "pygments_lexer": "ipython3",
   "version": "3.10.5"
  },
  "orig_nbformat": 4,
  "vscode": {
   "interpreter": {
    "hash": "f6c0965e6b75db49b3d5dabb58f334c6e9bfd31022c25e3b676aee8f55f8f353"
   }
  }
 },
 "nbformat": 4,
 "nbformat_minor": 2
}
